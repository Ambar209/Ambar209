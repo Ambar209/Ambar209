{
  "nbformat": 4,
  "nbformat_minor": 0,
  "metadata": {
    "colab": {
      "provenance": [],
      "authorship_tag": "ABX9TyM25ImcXIwXxxJXEjJS7few",
      "include_colab_link": true
    },
    "kernelspec": {
      "name": "python3",
      "display_name": "Python 3"
    },
    "language_info": {
      "name": "python"
    }
  },
  "cells": [
    {
      "cell_type": "markdown",
      "metadata": {
        "id": "view-in-github",
        "colab_type": "text"
      },
      "source": [
        "<a href=\"https://colab.research.google.com/github/Ambar209/Ambar209/blob/main/Statistic_Advance_1_Assignment.ipynb\" target=\"_parent\"><img src=\"https://colab.research.google.com/assets/colab-badge.svg\" alt=\"Open In Colab\"/></a>"
      ]
    },
    {
      "cell_type": "markdown",
      "source": [
        "Q1: Explain the properties of the F-distribution\n",
        "\n",
        "Answer: The F-distribution is a probability distribution that arises when\n",
        "        comparing the variances of two populations. It's commonly used in analysis of variance (ANOVA) and regression analysis\n",
        "\n",
        "Q2:  In which types of statistical tests is the F-distribution used, and why is\n",
        "     it appropriate for these tests\n",
        "\n",
        "Answer: The F-distribution is used in the following types of statistical tests\n",
        "        Analysis of Variance (ANOVA)\n",
        "\n",
        "        Regression Analysis (specifically, F-test for overall model significance)\n",
        "\n",
        "        Testing equality of variances\n",
        "\n",
        "Q3:  What are the key assumptions required for conducting an F-test to compare\n",
        "     the variances of two populations\n",
        "\n",
        "Answer:  What are the key assumptions required for conducting an F-test to\n",
        "         compare the variances of two populations\n",
        "\n",
        "         Independence\n",
        "         Normality\n",
        "         Random Sampling\n",
        "         Non-negative Variances\n",
        "\n",
        "Q4: What is the purpose of ANOVA, and how does it differ from a t-test?\n",
        "\n",
        "Answer: Purpose of ANOVA\n",
        "        ANOVA (Analysis of Variance) is used to test if there are significant differences between the means of three or more groups. It helps determine whether at least one group mean is different from the others.\n",
        "\n",
        "        differs from a t-test\n",
        "\n",
        "        t-test compares the means of two groups to see if they are different.\n",
        "\n",
        "        ANOVA compares the means of three or more groups simultaneously\n",
        "\n",
        "\n",
        "Q5:  Explain when and why you would use a one-way ANOVA instead of multiple    \n",
        "     t-tests when comparing more than two groups.\n",
        "\n",
        "Answer: You would use a one-way ANOVA instead of multiple t-tests when  \n",
        "        comparing more than two groups to avoid increasing the risk of Type I errors (false positives)\n",
        "\n",
        "\n",
        "        With multiple t-tests, each test has a chance of finding a significant result just by chance. As you conduct more tests, the likelihood of finding at least one false positive increases\n",
        "\n",
        "\n",
        "Q6:  Explain how variance is partitioned in ANOVA into between-group variance\n",
        "     and within-group variance.How does this partitioning contribute to the calculation of the F-statistic?\n",
        "\n",
        "Answer: ANOVA, variance is split into two parts\n",
        "\n",
        "       Between-group variance: This represents the variability due to differences between the group means. It shows how much the group means differ from the overall mean\n",
        "\n",
        "       Within-group variance: This represents the variability within each group. It shows how much individual data points deviate from their respective group mean\n",
        "\n",
        "Q7:  Compare the classical (frequentist) approach to ANOVA with the Bayesian\n",
        "     approach. What are the key differences in terms of how they handle uncertainty, parameter estimation, and hypothesis testing?\n",
        "\n",
        "Answer: classical (frequentist) and Bayesian approaches to ANOVA differ in how\n",
        "        they handle uncertainty, parameter estimation, and hypothesis testing\n",
        "\n",
        "        Uncertainty\n",
        "\n",
        "        Frequentist: Treats parameters as fixed but unknown, and uncertainty is reflected in the data through sampling variability\n",
        "\n",
        "        Parameter Estimation\n",
        "\n",
        "        Frequentist: Estimates parameters (e.g., group means) using sample data and provides point estimates along with confidence intervals\n",
        "\n",
        "        Hypothesis Testing\n",
        "\n",
        "        Frequentist: Tests hypotheses using p-values to assess the likelihood of observing the data given the null hypothesis\n",
        "\n",
        "Q8: Question: You have two sets of data representing the incomes of two\n",
        "     different professions1\n",
        "     V Profession A: [48, 52, 55, 60, 62'\n",
        "     V Profession B: [45, 50, 55, 52, 47] Perform an F-test to determine if the variances of the two professions'\n",
        "     incomes are equal. What are your conclusions based on the F-test?\n",
        "\n",
        "Task: Use Python to calculate the F-statistic and p-value for the given data.\n",
        "\n",
        "Objective: Gain experience in performing F-tests and interpreting the results in terms of variance comparison\n",
        "\n",
        "\n",
        "Answer:\n"
      ],
      "metadata": {
        "id": "Cv-xWwGsxn99"
      }
    },
    {
      "cell_type": "code",
      "source": [
        "import numpy as np\n",
        "from scipy.stats import f\n",
        "\n",
        "# Data for Profession A and B\n",
        "profession_A = np.array([48, 52, 55, 60, 62])\n",
        "profession_B = np.array([45, 50, 55, 52, 47])\n",
        "\n",
        "# Calculate the variances of both groups\n",
        "var_A = np.var(profession_A, ddof=1)  # Sample variance (ddof=1 for sample)\n",
        "var_B = np.var(profession_B, ddof=1)  # Sample variance (ddof=1 for sample)\n",
        "\n",
        "# Calculate the F-statistic (larger variance / smaller variance)\n",
        "if var_A > var_B:\n",
        "    F_statistic = var_A / var_B\n",
        "    df1 = len(profession_A) - 1  # degrees of freedom for A\n",
        "    df2 = len(profession_B) - 1  # degrees of freedom for B\n",
        "else:\n",
        "    F_statistic = var_B / var_A\n",
        "    df1 = len(profession_B) - 1  # degrees of freedom for B\n",
        "    df2 = len(profession_A) - 1  # degrees of freedom for A\n",
        "\n",
        "# Calculate the p-value for the F-test\n",
        "p_value = 2 * min(f.cdf(F_statistic, df1, df2), 1 - f.cdf(F_statistic, df1, df2))  # two-tailed test\n",
        "\n",
        "# Display the results\n",
        "print(f\"F-statistic: {F_statistic}\")\n",
        "print(f\"p-value: {p_value}\")\n"
      ],
      "metadata": {
        "colab": {
          "base_uri": "https://localhost:8080/",
          "height": 0
        },
        "id": "x9vRsW_22SPA",
        "outputId": "7687c4fe-1654-4e04-f7e0-942b14e5feed"
      },
      "execution_count": 1,
      "outputs": [
        {
          "output_type": "stream",
          "name": "stdout",
          "text": [
            "F-statistic: 2.089171974522293\n",
            "p-value: 0.49304859900533904\n"
          ]
        }
      ]
    },
    {
      "cell_type": "markdown",
      "source": [
        "Q9:  Conduct a one-way ANOVA to test whether there are any statistically\n",
        "     significant differences in\n",
        "     average heights between three different regions with the following data1\n",
        "     V Region A: [160, 162, 165, 158, 164]\n",
        "     V Region B: [172, 175, 170, 168, 174]\n",
        "     V Region C: [180, 182, 179, 185, 183]\n",
        "V Task: Write Python code to perform the one-way ANOVA and interpret the results\n",
        "V Objective: Learn how to perform one-way ANOVA using Python and interpret F-statistic and p-value.\n",
        "\n",
        "Answer:"
      ],
      "metadata": {
        "id": "s8CipukY2Y5J"
      }
    },
    {
      "cell_type": "code",
      "source": [
        "import numpy as np\n",
        "from scipy import stats\n",
        "\n",
        "# Data for each region\n",
        "region_a = [160, 162, 165, 158, 164]\n",
        "region_b = [172, 175, 170, 168, 174]\n",
        "region_c = [180, 182, 179, 185, 183]\n",
        "\n",
        "# Perform one-way ANOVA\n",
        "f_statistic, p_value = stats.f_oneway(region_a, region_b, region_c)\n",
        "\n",
        "# Print the F-statistic and p-value\n",
        "print(f\"F-statistic: {f_statistic}\")\n",
        "print(f\"P-value: {p_value}\")\n",
        "\n",
        "# Interpretation of the result\n",
        "if p_value < 0.05:\n",
        "    print(\"Reject the null hypothesis: There is a statistically significant difference between the regions.\")\n",
        "else:\n",
        "    print(\"Fail to reject the null hypothesis: There is no statistically significant difference between the regions.\")\n"
      ],
      "metadata": {
        "id": "_33YE7183iUO"
      },
      "execution_count": null,
      "outputs": []
    }
  ]
}