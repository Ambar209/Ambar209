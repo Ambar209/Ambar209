{
  "nbformat": 4,
  "nbformat_minor": 0,
  "metadata": {
    "colab": {
      "provenance": [],
      "authorship_tag": "ABX9TyOFD6WW8FQirbzNAaE5qeZd",
      "include_colab_link": true
    },
    "kernelspec": {
      "name": "python3",
      "display_name": "Python 3"
    },
    "language_info": {
      "name": "python"
    }
  },
  "cells": [
    {
      "cell_type": "markdown",
      "metadata": {
        "id": "view-in-github",
        "colab_type": "text"
      },
      "source": [
        "<a href=\"https://colab.research.google.com/github/Ambar209/Ambar209/blob/main/File_And_Exceptional_Handling_Assignment.ipynb\" target=\"_parent\"><img src=\"https://colab.research.google.com/assets/colab-badge.svg\" alt=\"Open In Colab\"/></a>"
      ]
    },
    {
      "cell_type": "code",
      "execution_count": null,
      "metadata": {
        "id": "hTdMaQcLgw2z"
      },
      "outputs": [],
      "source": []
    },
    {
      "cell_type": "markdown",
      "source": [
        "Q1: Discuss the scenarios where multithreading is preferable to multiprocessing and scenarios where\n",
        "multiprocessing is a better choice.\n",
        "\n",
        "Answer: Prefer Multithreading When\n",
        "      1: I/O-Bound Tasks: When waiting on things like file or network operations.\n",
        "\n",
        "      2: Shared Memory: When tasks need to share data easily.\n",
        "\n",
        "      3:Low Overhead: When you need to create many concurrent tasks quickly.\n",
        "\n",
        "      4:Real-Time Applications: For smooth user experiences in GUIs.\n",
        "\n",
        "      5:Programming Support: When the language has good multithreading tools.\n",
        "\n",
        "      Prefer Multiprocessing When\n",
        "\n",
        "      1:CPU-Bound Tasks: For heavy computations that need lots of processing power.\n",
        "\n",
        "     2:GIL Issues: In languages like Python where the Global Interpreter Lock limits threading.\n",
        "\n",
        "     3:Fault Isolation: If you want tasks to crash independently without affecting others.\n",
        "\n",
        "     4:Memory Usage: When tasks use a lot of memory and need separate spaces.\n",
        "\n",
        "     5:Resource Management: To better control resource allocation in environments like servers.\n",
        "\n",
        "Q2:Describe what a process pool is and how it helps in managing multiple processes efficiently.\n",
        "\n",
        "Answer:  A process pool is a collection of pre-created worker processes that  \n",
        "         can handle tasks in parallel. Instead of creating and destroying processes for each task, a process pool keeps a set number of processes ready to work on tasks as they come in\n",
        "\n",
        "         How Help\n",
        "\n",
        "         1:Efficiency: Reusing existing processes reduces the time and resources needed to start new ones.\n",
        "\n",
        "         2:Resource Management: You can limit the number of processes to avoid overwhelming the system, ensuring smoother performance.\n",
        "\n",
        "         3:Simplified Code: It makes it easier to manage multiple tasks without worrying about creating and terminating processes each time.\n",
        "\n",
        "        4:Load Balancing: Tasks can be distributed evenly among available processes, optimizing resource usage.\n",
        "\n",
        "Q3: Explain what multiprocessing is and why it is used in Python programs\n",
        "\n",
        "Answer:  Multiprocessing is a way to run multiple processes at the same time in\n",
        "         a Python program. Each process has its own memory space and can run independently, allowing them to perform tasks in parallel.\n",
        "\n",
        "         Use Multiprocessing in Python\n",
        "\n",
        "         1:Bypass GIL: Python has a Global Interpreter Lock (GIL) that limits the execution of threads. Multiprocessing avoids this issue, allowing full use of multiple CPU cores for heavy computations.\n",
        "\n",
        "         2:Improved Performance: For CPU-intensive tasks, multiprocessing can significantly speed up execution by distributing the workload across multiple processors.\n",
        "Q4:Write a Python program using multithreading where one thread adds numbers to a list, and another\n",
        "thread removes numbers from the list. Implement a mechanism to avoid race conditions using\n",
        "threading.Lock\n",
        "\n",
        "Answer:\n"
      ],
      "metadata": {
        "id": "-BvvWPGAhNtZ"
      }
    },
    {
      "cell_type": "code",
      "source": [
        "import threading\n",
        "import time\n",
        "\n",
        "# Shared list\n",
        "shared_list = []\n",
        "# Create a lock\n",
        "lock = threading.Lock()\n",
        "\n",
        "def add_numbers():\n",
        "    for i in range(10):\n",
        "        time.sleep(0.1)  # Simulate some delay\n",
        "        lock.acquire()  # Acquire the lock before modifying the list\n",
        "        shared_list.append(i)\n",
        "        print(f\"Added {i} to the list: {shared_list}\")\n",
        "        lock.release()  # Release the lock\n",
        "\n",
        "def remove_numbers():\n",
        "    for _ in range(10):\n",
        "        time.sleep(0.15)  # Simulate some delay\n",
        "        lock.acquire()  # Acquire the lock before modifying the list\n",
        "        if shared_list:\n",
        "            removed = shared_list.pop(0)\n",
        "            print(f\"Removed {removed} from the list: {shared_list}\")\n",
        "        lock.release()  # Release the lock\n",
        "\n",
        "# Create threads\n",
        "adder_thread = threading.Thread(target=add_numbers)\n",
        "remover_thread = threading.Thread(target=remove_numbers)\n",
        "\n",
        "# Start threads\n",
        "adder_thread.start()\n",
        "remover_thread.start()\n",
        "\n",
        "# Wait for both threads to complete\n",
        "adder_thread.join()\n",
        "remover_thread.join()\n",
        "\n",
        "print(\"Final list:\", shared_list)\n"
      ],
      "metadata": {
        "id": "tHTEiCxDjt48"
      },
      "execution_count": null,
      "outputs": []
    },
    {
      "cell_type": "markdown",
      "source": [
        "Q5: Describe the methods and tools available in Python for safely sharing data between threads and\n",
        "processes\n",
        "\n",
        "Answer:  use locks, queues, and events for threads, and queues, pipes, and\n",
        "         managers for processes. These tools help prevent conflicts and ensure safe data sharing between threads and processes in Python.\n",
        "\n",
        "         threading.Lock:\n",
        "\n",
        "         A simple locking mechanism that prevents multiple threads from accessing shared data at the same time. Use lock.acquire() before accessing the data and lock.release() after.\n",
        "\n",
        "         threading.RLock:\n",
        "\n",
        "        A reentrant lock that allows the same thread to acquire it multiple times without blocking itself.\n",
        "\n",
        "\n",
        "Q6:  Discuss why it’s crucial to handle exceptions in concurrent programs and the techniques available for\n",
        "doing so.\n",
        "\n",
        "Answer:  handling exceptions in concurrent programs is vital for stability,\n",
        "         debugging, and resource management. Techniques like try-except blocks, logging, and proper cleanup actions help ensure your program runs smoothly and can recover from errors\n",
        "\n",
        "\n",
        "Q7:  Create a program that uses a thread pool to calculate the factorial of numbers from 1 to 10 concurrently.\n",
        "Use concurrent.futures.ThreadPoolExecutor to manage the threads.\n",
        "\n",
        "Answer:  \n",
        "\n",
        "\n",
        "\n",
        "\n"
      ],
      "metadata": {
        "id": "ApPLgKz7j9vR"
      }
    },
    {
      "cell_type": "code",
      "source": [
        "import concurrent.futures\n",
        "import math\n",
        "\n",
        "# Function to calculate factorial\n",
        "def calculate_factorial(n):\n",
        "    return math.factorial(n)\n",
        "\n",
        "# Main function to use ThreadPoolExecutor\n",
        "def main():\n",
        "    numbers = list(range(1, 11))  # Numbers from 1 to 10\n",
        "\n",
        "    # Create a ThreadPoolExecutor\n",
        "    with concurrent.futures.ThreadPoolExecutor() as executor:\n",
        "        # Map the calculate_factorial function to the numbers\n",
        "        results = executor.map(calculate_factorial, numbers)\n",
        "\n",
        "    # Print the results\n",
        "    for number, factorial in zip(numbers, results):\n",
        "        print(f\"The factorial of {number} is {factorial}\")\n",
        "\n",
        "if __name__ == \"__main__\":\n",
        "    main()\n"
      ],
      "metadata": {
        "id": "kcY_kf7LlPn_"
      },
      "execution_count": null,
      "outputs": []
    },
    {
      "cell_type": "markdown",
      "source": [
        "Q8: Create a Python program that uses multiprocessing.Pool to compute the square of numbers from 1 to 10 in\n",
        "parallel. Measure the time taken to perform this computation using a pool of different sizes (e.g., 2, 4, 8 processes).\n",
        "Answer:  \n",
        "\n"
      ],
      "metadata": {
        "id": "iGCDnQ-2lSxN"
      }
    },
    {
      "cell_type": "code",
      "source": [
        "import multiprocessing\n",
        "import time\n",
        "\n",
        "# Function to compute the square of a number\n",
        "def square(n):\n",
        "    return n * n\n",
        "\n",
        "def compute_squares(pool_size):\n",
        "    numbers = list(range(1, 11))  # Numbers from 1 to 10\n",
        "\n",
        "    # Create a Pool of processes\n",
        "    with multiprocessing.Pool(processes=pool_size) as pool:\n",
        "        # Map the square function to the numbers\n",
        "        results = pool.map(square, numbers)\n",
        "\n",
        "    return results\n",
        "\n",
        "def main():\n",
        "    pool_sizes = [2, 4, 8]  # Different pool sizes\n",
        "\n",
        "    for size in pool_sizes:\n",
        "        start_time = time.time()  # Start timing\n",
        "        results = compute_squares(size)\n",
        "        end_time = time.time()  # End timing\n",
        "\n",
        "        print(f\"Pool size: {size}, Results: {results}, Time taken: {end_time - start_time:.4f} seconds\")\n",
        "\n",
        "if __name__ == \"__main__\":\n",
        "    main()\n"
      ],
      "metadata": {
        "id": "FjDLUxYVliPT"
      },
      "execution_count": null,
      "outputs": []
    }
  ]
}