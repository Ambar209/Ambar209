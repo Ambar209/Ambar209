{
  "cells": [
    {
      "cell_type": "markdown",
      "metadata": {
        "id": "view-in-github",
        "colab_type": "text"
      },
      "source": [
        "<a href=\"https://colab.research.google.com/github/Ambar209/Ambar209/blob/main/Python%20Basic%20Assignment.ipynb\" target=\"_parent\"><img src=\"https://colab.research.google.com/assets/colab-badge.svg\" alt=\"Open In Colab\"/></a>"
      ]
    },
    {
      "cell_type": "markdown",
      "source": [
        "Ambar raza\n",
        "Basic python Assignment\n",
        "Github Account Ambar209\n",
        "\n",
        "Q1:Explain the key features of python that makes is a popular choice for programming\n",
        "\n",
        "Ans: python is popularity due to its simplicity,readability,extensive libraries,cross-plateform compatability support,these features make it odeal for a wide range of applications and user levels.\n",
        "\n",
        "Q2: Describe the role of predefined keywords in python and provide examples of how they are used in a programme\n",
        "\n",
        "Ans: predefined keywords in python are reserved words that have special meaning and are integral to the language syntext. the define the structure of a python programme.ex if,else,for\n",
        "\n",
        "Q3: In python, objects are classified as either mutable or immutable ,based on whether their state can be changed after ciondition.\n",
        "Mutable object: can be changed after they are created\n",
        "ex:list dictionaries,sets\n",
        "Immutable Objects:Cannot be changed after created\n",
        "ex:string,tuple\n"
      ],
      "metadata": {
        "id": "sS7BkaMG-nhO"
      }
    },
    {
      "cell_type": "markdown",
      "source": [
        "Q4: Discuss the Different types of opertors in python and provide examples of how they are used\n",
        "Ans: python provide several types of operators that allow you to perform different operation\n",
        "1 Arithmetic opertors : perform basic Mathematical operators\n",
        "2 Comparison Operators: compare value and return a boolean result\n",
        "3 logical operators: combine conditional statements\n"
      ],
      "metadata": {
        "id": "mH6ajSldD-d1"
      }
    },
    {
      "cell_type": "markdown",
      "source": [
        "Q5: Explain the concept of type casting in python with examples\n",
        "Ans: type casting in python refers to converting one data type into another .\n",
        "Two type of data casting:\n",
        "1 Implicit Type : python automatically converts one data types to another without explicit instruction from the user ex:python will automatically convert an integer to a float during an arithmetic operation if neessary.\n",
        "\n",
        "2 Explicit Type:you explicitly convert one data type to another using pythons built in function like int(),float(),str()etc\n"
      ],
      "metadata": {
        "id": "SQiy1yTYF-oD"
      }
    },
    {
      "cell_type": "markdown",
      "source": [
        "Q7:Describe the differentb types of loops in python and their use cases with examples\n",
        "Ans: in python ,loops are used to repeatedly execute a block of code as long as a condition is true or until a specific condition is met.\n",
        "Ex for loop while loop nested loop"
      ],
      "metadata": {
        "id": "PEvzuJ9qLJTC"
      }
    },
    {
      "cell_type": "markdown",
      "source": [
        "Q6: How do conditional statements work in python? illustarte with examples\n",
        "Ans: conditional statements in python are used to perform different action based on different condition"
      ],
      "metadata": {
        "id": "0-U-uY96J7Bv"
      }
    },
    {
      "cell_type": "code",
      "source": [
        "# using keyword in a simple python programme\n",
        "if True: #if is a keyword\n",
        "for i in range: #for is  keyword\n",
        "\n",
        "#mutable object\n",
        "my_list =[1,2,3]\n",
        "my_list[0]=10 #Changing the first element\n",
        "print(my_list) #output [10,2,3]\n",
        "\n",
        "#immutable object\n",
        "my_tuple=(1,2,3)\n",
        "my_tuple[0]=10 #This will raise an error\n",
        "\n",
        "#arithmetic operators\n",
        "x=10\n",
        "y=5\n",
        "print(x+y) #output 15\n",
        "print(x-y) #output 5\n",
        "print(x*y) #output 50\n",
        "print(x/y) #output 2.0\n",
        "\n",
        "#comparison operators\n",
        "a=10\n",
        "b=5\n",
        "print(a>b) #output True\n",
        "print(a<b) #output False\n",
        "print(a==b) #output False\n",
        "\n",
        "#logical operators\n",
        "x=True\n",
        "y=False\n",
        "print(x and y) #output False\n",
        "print(x or y) #output True\n",
        "print(not x) #output False\n",
        "\n",
        "#implicit type casting\n",
        "x=10\n",
        "y=3.5\n",
        "z=x+y\n",
        "print(type(z)) #output <class 'float'>\n",
        "\n",
        "#explicit type casting\n",
        "x=\"10\"\n",
        "y=\"5\"\n",
        "z=int(x)+int(y)\n",
        "print(z) #output 15\n",
        "\n",
        "#Q6 key conditional statements in python\n",
        "age = 18\n",
        "if age >= 18:\n",
        "    print(\"You are eligible to vote.\")\n",
        "else:\n",
        "    print(\"You are not eligible to vote.\")\n",
        "\n",
        "#Q7: for loop\n",
        "fruits = [\"apple\", \"banana\", \"cherry\"]\n",
        "for fruit in fruits:\n",
        "    print(fruit)\n",
        "\n",
        "#Q8: while loop\n",
        "count = 0\n",
        "while count < 5:\n",
        "    print(count)\n",
        "    count += 1\n",
        "\n"
      ],
      "metadata": {
        "id": "KH9Jdvg1-nQm"
      },
      "execution_count": null,
      "outputs": []
    }
  ],
  "metadata": {
    "colab": {
      "name": "Welcome To Colab",
      "toc_visible": true,
      "provenance": [],
      "include_colab_link": true
    },
    "kernelspec": {
      "display_name": "Python 3",
      "name": "python3"
    }
  },
  "nbformat": 4,
  "nbformat_minor": 0
}